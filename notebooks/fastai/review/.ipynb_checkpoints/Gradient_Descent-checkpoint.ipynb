{
 "cells": [
  {
   "cell_type": "code",
   "execution_count": 5,
   "metadata": {
    "collapsed": false
   },
   "outputs": [],
   "source": [
    "%matplotlib inline\n",
    "import matplotlib.pyplot as plt\n",
    "from sklearn.datasets.samples_generator import make_blobs\n",
    "import numpy as np\n",
    "import argparse"
   ]
  },
  {
   "cell_type": "code",
   "execution_count": 4,
   "metadata": {
    "collapsed": true
   },
   "outputs": [],
   "source": [
    "def sigmoid_activation(x):\n",
    "    return 1.0 / (1 + np.exp(-x))"
   ]
  },
  {
   "cell_type": "code",
   "execution_count": 6,
   "metadata": {
    "collapsed": true
   },
   "outputs": [],
   "source": [
    "epochs = 100\n",
    "alpha = 0.01"
   ]
  },
  {
   "cell_type": "code",
   "execution_count": 16,
   "metadata": {
    "collapsed": true
   },
   "outputs": [],
   "source": [
    "# generate a 2-class classification problem with 250 data points,\n",
    "# where each data point is a 2D feature vector \n",
    "(X, y) = make_blobs(n_samples=250, n_features=2, centers=2, cluster_std=1.05, random_state=20)"
   ]
  },
  {
   "cell_type": "code",
   "execution_count": 17,
   "metadata": {
    "collapsed": false
   },
   "outputs": [
    {
     "data": {
      "text/plain": [
       "array([[ 7.85666084,  6.80673325],\n",
       "       [ 3.0617736 ,  8.83668264],\n",
       "       [ 2.99052487,  7.66466894],\n",
       "       [ 7.33697543,  8.35873442]])"
      ]
     },
     "execution_count": 17,
     "metadata": {},
     "output_type": "execute_result"
    }
   ],
   "source": [
    "X[0:4]"
   ]
  },
  {
   "cell_type": "code",
   "execution_count": 18,
   "metadata": {
    "collapsed": false
   },
   "outputs": [],
   "source": [
    "# insert a column of 1's as the first entry in the feature\n",
    "# vector -- this is a little trick that allows us to treat\n",
    "# the bias as a trainable parameter *within* the weight matrix\n",
    "# rather than an entirely separate variable\n",
    "X = np.c_[np.ones(X.shape[0]), X]"
   ]
  },
  {
   "cell_type": "code",
   "execution_count": 19,
   "metadata": {
    "collapsed": false
   },
   "outputs": [
    {
     "data": {
      "text/plain": [
       "array([[ 1.        ,  7.85666084,  6.80673325],\n",
       "       [ 1.        ,  3.0617736 ,  8.83668264],\n",
       "       [ 1.        ,  2.99052487,  7.66466894],\n",
       "       [ 1.        ,  7.33697543,  8.35873442]])"
      ]
     },
     "execution_count": 19,
     "metadata": {},
     "output_type": "execute_result"
    }
   ],
   "source": [
    "X[0:4]"
   ]
  },
  {
   "cell_type": "code",
   "execution_count": 21,
   "metadata": {
    "collapsed": true
   },
   "outputs": [],
   "source": [
    "# initialize the weight matrix such it has the same number of columns as the input feature\n",
    "W = np.random.uniform(size=(X.shape[1],))"
   ]
  },
  {
   "cell_type": "code",
   "execution_count": 36,
   "metadata": {
    "collapsed": false
   },
   "outputs": [],
   "source": [
    "lossHistory = []"
   ]
  },
  {
   "cell_type": "code",
   "execution_count": 37,
   "metadata": {
    "collapsed": false
   },
   "outputs": [
    {
     "name": "stdout",
     "output_type": "stream",
     "text": [
      "[INFO] epoch #1, loss=8.2073176\n",
      "[INFO] epoch #2, loss=8.1094679\n",
      "[INFO] epoch #3, loss=8.0138592\n",
      "[INFO] epoch #4, loss=7.9204192\n",
      "[INFO] epoch #5, loss=7.8290786\n",
      "[INFO] epoch #6, loss=7.7397709\n",
      "[INFO] epoch #7, loss=7.6524324\n",
      "[INFO] epoch #8, loss=7.5670015\n",
      "[INFO] epoch #9, loss=7.4834195\n",
      "[INFO] epoch #10, loss=7.4016298\n",
      "[INFO] epoch #11, loss=7.3215778\n",
      "[INFO] epoch #12, loss=7.2432113\n",
      "[INFO] epoch #13, loss=7.1664799\n",
      "[INFO] epoch #14, loss=7.0913352\n",
      "[INFO] epoch #15, loss=7.0177305\n",
      "[INFO] epoch #16, loss=6.9456211\n",
      "[INFO] epoch #17, loss=6.8749636\n",
      "[INFO] epoch #18, loss=6.8057164\n",
      "[INFO] epoch #19, loss=6.7378394\n",
      "[INFO] epoch #20, loss=6.6712940\n",
      "[INFO] epoch #21, loss=6.6060428\n",
      "[INFO] epoch #22, loss=6.5420499\n",
      "[INFO] epoch #23, loss=6.4792806\n",
      "[INFO] epoch #24, loss=6.4177014\n",
      "[INFO] epoch #25, loss=6.3572800\n",
      "[INFO] epoch #26, loss=6.2979853\n",
      "[INFO] epoch #27, loss=6.2397871\n",
      "[INFO] epoch #28, loss=6.1826563\n",
      "[INFO] epoch #29, loss=6.1265649\n",
      "[INFO] epoch #30, loss=6.0714856\n",
      "[INFO] epoch #31, loss=6.0173923\n",
      "[INFO] epoch #32, loss=5.9642595\n",
      "[INFO] epoch #33, loss=5.9120628\n",
      "[INFO] epoch #34, loss=5.8607782\n",
      "[INFO] epoch #35, loss=5.8103830\n",
      "[INFO] epoch #36, loss=5.7608548\n",
      "[INFO] epoch #37, loss=5.7121721\n",
      "[INFO] epoch #38, loss=5.6643141\n",
      "[INFO] epoch #39, loss=5.6172607\n",
      "[INFO] epoch #40, loss=5.5709921\n",
      "[INFO] epoch #41, loss=5.5254897\n",
      "[INFO] epoch #42, loss=5.4807349\n",
      "[INFO] epoch #43, loss=5.4367100\n",
      "[INFO] epoch #44, loss=5.3933977\n",
      "[INFO] epoch #45, loss=5.3507814\n",
      "[INFO] epoch #46, loss=5.3088448\n",
      "[INFO] epoch #47, loss=5.2675722\n",
      "[INFO] epoch #48, loss=5.2269483\n",
      "[INFO] epoch #49, loss=5.1869583\n",
      "[INFO] epoch #50, loss=5.1475879\n",
      "[INFO] epoch #51, loss=5.1088231\n",
      "[INFO] epoch #52, loss=5.0706503\n",
      "[INFO] epoch #53, loss=5.0330564\n",
      "[INFO] epoch #54, loss=4.9960287\n",
      "[INFO] epoch #55, loss=4.9595545\n",
      "[INFO] epoch #56, loss=4.9236220\n",
      "[INFO] epoch #57, loss=4.8882194\n",
      "[INFO] epoch #58, loss=4.8533353\n",
      "[INFO] epoch #59, loss=4.8189586\n",
      "[INFO] epoch #60, loss=4.7850786\n",
      "[INFO] epoch #61, loss=4.7516846\n",
      "[INFO] epoch #62, loss=4.7187667\n",
      "[INFO] epoch #63, loss=4.6863147\n",
      "[INFO] epoch #64, loss=4.6543192\n",
      "[INFO] epoch #65, loss=4.6227706\n",
      "[INFO] epoch #66, loss=4.5916599\n",
      "[INFO] epoch #67, loss=4.5609781\n",
      "[INFO] epoch #68, loss=4.5307166\n",
      "[INFO] epoch #69, loss=4.5008670\n",
      "[INFO] epoch #70, loss=4.4714210\n",
      "[INFO] epoch #71, loss=4.4423705\n",
      "[INFO] epoch #72, loss=4.4137079\n",
      "[INFO] epoch #73, loss=4.3854256\n",
      "[INFO] epoch #74, loss=4.3575160\n",
      "[INFO] epoch #75, loss=4.3299720\n",
      "[INFO] epoch #76, loss=4.3027865\n",
      "[INFO] epoch #77, loss=4.2759527\n",
      "[INFO] epoch #78, loss=4.2494639\n",
      "[INFO] epoch #79, loss=4.2233135\n",
      "[INFO] epoch #80, loss=4.1974953\n",
      "[INFO] epoch #81, loss=4.1720029\n",
      "[INFO] epoch #82, loss=4.1468303\n",
      "[INFO] epoch #83, loss=4.1219716\n",
      "[INFO] epoch #84, loss=4.0974211\n",
      "[INFO] epoch #85, loss=4.0731731\n",
      "[INFO] epoch #86, loss=4.0492220\n",
      "[INFO] epoch #87, loss=4.0255626\n",
      "[INFO] epoch #88, loss=4.0021895\n",
      "[INFO] epoch #89, loss=3.9790978\n",
      "[INFO] epoch #90, loss=3.9562822\n",
      "[INFO] epoch #91, loss=3.9337381\n",
      "[INFO] epoch #92, loss=3.9114605\n",
      "[INFO] epoch #93, loss=3.8894449\n",
      "[INFO] epoch #94, loss=3.8676867\n",
      "[INFO] epoch #95, loss=3.8461814\n",
      "[INFO] epoch #96, loss=3.8249247\n",
      "[INFO] epoch #97, loss=3.8039123\n",
      "[INFO] epoch #98, loss=3.7831401\n",
      "[INFO] epoch #99, loss=3.7626039\n",
      "[INFO] epoch #100, loss=3.7422999\n"
     ]
    }
   ],
   "source": [
    "for epoch in np.arange(0, epochs):\n",
    "    preds = sigmoid_activation(X.dot(W))\n",
    "    \n",
    "    error = preds -y\n",
    "    \n",
    "    loss = np.sum(error**2)\n",
    "    lossHistory.append(loss)\n",
    "    print(\"[INFO] epoch #{}, loss={:.7f}\".format(epoch + 1, loss))\n",
    "    \n",
    "    # the gradient update is therefore the dot product between\n",
    "    # the transpose of `X` and our error, scaled by the total\n",
    "    # number of data points in `X`\n",
    "    gradient = X.T.dot(error) / X.shape[0]\n",
    "    \n",
    "    W += -alpha * gradient"
   ]
  },
  {
   "cell_type": "code",
   "execution_count": 38,
   "metadata": {
    "collapsed": false
   },
   "outputs": [
    {
     "name": "stdout",
     "output_type": "stream",
     "text": [
      "activation=0.0229; predicted_label=0, true_label=0\n",
      "activation=0.0389; predicted_label=0, true_label=0\n",
      "activation=0.1227; predicted_label=0, true_label=0\n",
      "activation=0.1113; predicted_label=0, true_label=0\n",
      "activation=0.9209; predicted_label=1, true_label=1\n",
      "activation=0.0948; predicted_label=0, true_label=0\n",
      "activation=0.0734; predicted_label=0, true_label=0\n",
      "activation=0.9827; predicted_label=1, true_label=1\n",
      "activation=0.0965; predicted_label=0, true_label=0\n",
      "activation=0.9171; predicted_label=1, true_label=1\n"
     ]
    }
   ],
   "source": [
    "# to demonstrate how to use our weight matrix as a classifier,\n",
    "# let's look over our a sample of training examples\n",
    "for i in np.random.choice(250, 10):\n",
    "    activation = sigmoid_activation(X[i].dot(W))\n",
    "    \n",
    "    label = 0 if activation < 0.5 else 1\n",
    "    \n",
    "    print(\"activation={:.4f}; predicted_label={}, true_label={}\".format(activation, label, y[i]))"
   ]
  },
  {
   "cell_type": "code",
   "execution_count": 39,
   "metadata": {
    "collapsed": false
   },
   "outputs": [
    {
     "data": {
      "image/png": "[encoded data removed]",
      "text/plain": [
       "<matplotlib.figure.Figure at 0x111361390>"
      ]
     },
     "metadata": {},
     "output_type": "display_data"
    }
   ],
   "source": [
    "# compute the line of best fit by setting the sigmoid function\n",
    "# to 0 and solving for X2 in terms of X1\n",
    "Y = (-W[0] - (W[1] * X)) / W[2]\n",
    "plt.figure()\n",
    "plt.scatter(X[:,1], X[:,2], marker=\"o\",c=y)\n",
    "plt.plot(X, Y, \"r-\")\n",
    "plt.show()"
   ]
  },
  {
   "cell_type": "code",
   "execution_count": 41,
   "metadata": {
    "collapsed": false
   },
   "outputs": [
    {
     "data": {
      "image/png": "[encoded data removed]",
      "text/plain": [
       "<matplotlib.figure.Figure at 0x110e1ed50>"
      ]
     },
     "metadata": {},
     "output_type": "display_data"
    }
   ],
   "source": [
    "# plot the loss over time\n",
    "fig = plt.figure()\n",
    "plt.plot(np.arange(0, epochs), lossHistory)\n",
    "fig.suptitle(\"Training Loss\")\n",
    "plt.xlabel(\"Epoch #\")\n",
    "plt.ylabel(\"Loss\")\n",
    "plt.show()"
   ]
  },
  {
   "cell_type": "code",
   "execution_count": null,
   "metadata": {
    "collapsed": true
   },
   "outputs": [],
   "source": []
  }
 ],
 "metadata": {
  "anaconda-cloud": {},
  "kernelspec": {
   "display_name": "Python [Root]",
   "language": "python",
   "name": "Python [Root]"
  },
  "language_info": {
   "codemirror_mode": {
    "name": "ipython",
    "version": 2
   },
   "file_extension": ".py",
   "mimetype": "text/x-python",
   "name": "python",
   "nbconvert_exporter": "python",
   "pygments_lexer": "ipython2",
   "version": "2.7.9"
  }
 },
 "nbformat": 4,
 "nbformat_minor": 0
}
