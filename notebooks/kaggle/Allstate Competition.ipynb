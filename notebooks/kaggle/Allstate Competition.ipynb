{
 "cells": [
  {
   "cell_type": "code",
   "execution_count": 3,
   "metadata": {
    "collapsed": false
   },
   "outputs": [],
   "source": [
    "## import libraries\n",
    "import numpy as np\n",
    "np.random.seed(123)\n",
    "\n",
    "import pandas as pd\n",
    "import subprocess\n",
    "from scipy.sparse import csr_matrix, hstack\n",
    "from sklearn.metrics import mean_absolute_error\n",
    "from sklearn.preprocessing import StandardScaler\n",
    "from sklearn.cross_validation import KFold\n",
    "from keras.models import Sequential\n",
    "from keras.layers import Dense, Dropout, Activation\n",
    "from keras.layers.normalization import BatchNormalization\n",
    "from keras.layers.advanced_activations import PReLU"
   ]
  },
  {
   "cell_type": "code",
   "execution_count": 4,
   "metadata": {
    "collapsed": true
   },
   "outputs": [],
   "source": [
    "## Batch generator\n",
    "\n",
    "def batch_generator(X, y, batch_size, shuffle):\n",
    "    number_of_batches = np.ceil(X.shape[0]/batch_size)\n",
    "    counter = 0\n",
    "    sample_index = np.arange(X.shape[0])\n",
    "    if shuffle:\n",
    "        np.random.shuffle(sample_index)\n",
    "    while True:\n",
    "        batch_index = sample_index[batch_size*counter:batch_size*(counter+1)]\n",
    "        X_batch = X[batch_index,:].toarray()\n",
    "        y_batch = y[batch_index]\n",
    "        counter += 1\n",
    "        yield X_batch, y_batch\n",
    "        if (counter == number_of_batches):\n",
    "            if shuffle:\n",
    "                np.random.shuffle(sample_index)\n",
    "            counter = 0\n",
    "\n",
    "def batch_generatorp(X, batch_size, shuffle):\n",
    "    number_of_batches = X.shape[0] / np.ceil(X.shape[0]/batch_size)\n",
    "    counter = 0\n",
    "    sample_index = np.arange(X.shape[0])\n",
    "    while True:\n",
    "        batch_index = sample_index[batch_size * counter:batch_size * (counter + 1)]\n",
    "        X_batch = X[batch_index, :].toarray()\n",
    "        counter += 1\n",
    "        yield X_batch\n",
    "        if (counter == number_of_batches):\n",
    "            counter = 0"
   ]
  },
  {
   "cell_type": "code",
   "execution_count": 5,
   "metadata": {
    "collapsed": false
   },
   "outputs": [],
   "source": [
    "# Read data\n",
    "train = pd.read_csv('input/train.csv')\n",
    "test = pd.read_csv('input/test.csv')\n",
    "\n",
    "index = list(train.index)"
   ]
  },
  {
   "cell_type": "code",
   "execution_count": 6,
   "metadata": {
    "collapsed": false
   },
   "outputs": [
    {
     "data": {
      "text/plain": [
       "(188318, 132)"
      ]
     },
     "execution_count": 6,
     "metadata": {},
     "output_type": "execute_result"
    }
   ],
   "source": [
    "train.shape"
   ]
  },
  {
   "cell_type": "code",
   "execution_count": 7,
   "metadata": {
    "collapsed": false
   },
   "outputs": [],
   "source": [
    "train = train.iloc[index]\n",
    "\n",
    "# set test loss to NaN\n",
    "test['loss'] = np.nan\n",
    "\n",
    "shift = 200\n",
    "\n",
    "y = np.log(train['loss'].values + 200)\n",
    "id_train = train['id'].values\n",
    "id_test = test['id'].values\n",
    "\n",
    "# merge train and test\n",
    "ntrain = train.shape[0]\n",
    "\n",
    "train_test = pd.concat((train, test), axis = 0)"
   ]
  },
  {
   "cell_type": "markdown",
   "metadata": {},
   "source": [
    "## Preprocessing and transforming to sparse data"
   ]
  },
  {
   "cell_type": "code",
   "execution_count": 8,
   "metadata": {
    "collapsed": false
   },
   "outputs": [
    {
     "name": "stdout",
     "output_type": "stream",
     "text": [
      "Dim train:  (188318, 1190)\n",
      "Dim test: (125546, 1190)\n"
     ]
    }
   ],
   "source": [
    "sparse_data = []\n",
    "\n",
    "f_cat = [f for f in train_test.columns if 'cat' in f]\n",
    "for f in f_cat:\n",
    "    dummy = pd.get_dummies(train_test[f].astype('category'))\n",
    "    tmp = csr_matrix(dummy)\n",
    "    sparse_data.append(tmp)\n",
    "    \n",
    "f_num = [f for f in train_test.columns if 'cont' in f]\n",
    "\n",
    "scaler = StandardScaler()\n",
    "tmp = csr_matrix(scaler.fit_transform(train_test[f_num]))\n",
    "sparse_data.append(tmp)\n",
    "\n",
    "del(train_test, train, test)\n",
    "\n",
    "# Sparese train and test data\n",
    "xtrain_test = hstack(sparse_data, format='csr')\n",
    "xtrain = xtrain_test[:ntrain, :]\n",
    "xtest = xtrain_test[ntrain:,:]\n",
    "print('Dim train: ', xtrain.shape)\n",
    "print('Dim test:', xtest.shape)"
   ]
  },
  {
   "cell_type": "markdown",
   "metadata": {},
   "source": [
    "## Define a neural network"
   ]
  },
  {
   "cell_type": "code",
   "execution_count": 9,
   "metadata": {
    "collapsed": true
   },
   "outputs": [],
   "source": [
    "def nn_model():\n",
    "    model = Sequential()\n",
    "    \n",
    "    model.add(Dense(400, input_dim=xtrain.shape[1], init='he_normal'))\n",
    "    model.add(PReLU())\n",
    "    model.add(BatchNormalization())\n",
    "    model.add(Dropout(0.4))\n",
    "    \n",
    "    model.add(Dense(200, init = 'he_normal'))\n",
    "    model.add(PReLU())\n",
    "    model.add(BatchNormalization())    \n",
    "    model.add(Dropout(0.2))\n",
    "    \n",
    "    model.add(Dense(50, init = 'he_normal'))\n",
    "    model.add(PReLU())\n",
    "    model.add(BatchNormalization())    \n",
    "    model.add(Dropout(0.2))\n",
    "    \n",
    "    model.add(Dense(1, init = 'he_normal'))\n",
    "    model.compile(loss = 'mae', optimizer = 'adadelta')\n",
    "    return(model)"
   ]
  },
  {
   "cell_type": "code",
   "execution_count": 10,
   "metadata": {
    "collapsed": true
   },
   "outputs": [],
   "source": [
    "# CV-folds\n",
    "nfolds = 5\n",
    "\n",
    "folds = KFold(len(y), n_folds=nfolds, shuffle=True, random_state=111)"
   ]
  },
  {
   "cell_type": "markdown",
   "metadata": {},
   "source": [
    "## Train models"
   ]
  },
  {
   "cell_type": "code",
   "execution_count": 11,
   "metadata": {
    "collapsed": false
   },
   "outputs": [
    {
     "name": "stdout",
     "output_type": "stream",
     "text": [
      "Fold val bagging score after  1 rounds is:  1130.91903976\n",
      "Fold val bagging score after  2 rounds is:  1125.77560597\n",
      "Fold val bagging score after  3 rounds is:  1126.25250405\n",
      "Fold val bagging score after  4 rounds is:  1124.61573231\n",
      "Fold val bagging score after  5 rounds is:  1124.22136505\n",
      "Fold val bagging score after  6 rounds is:  1124.5312355\n",
      "Fold val bagging score after  7 rounds is:  1124.18946832\n",
      "Fold val bagging score after  8 rounds is:  1123.7941781\n",
      "Fold val bagging score after  9 rounds is:  1123.1772043\n",
      "Fold val bagging score after  10 rounds is:  1123.05611612\n",
      "Fold  1 - MAE:  1123.05611612\n",
      "Fold val bagging score after  1 rounds is:  1138.14570468\n",
      "Fold val bagging score after  2 rounds is:  1133.32164624\n",
      "Fold val bagging score after  3 rounds is:  1130.65234603\n",
      "Fold val bagging score after  4 rounds is:  1129.56675365\n",
      "Fold val bagging score after  5 rounds is:  1129.81951986\n",
      "Fold val bagging score after  6 rounds is:  1129.52800859\n",
      "Fold val bagging score after  7 rounds is:  1129.03946054\n",
      "Fold val bagging score after  8 rounds is:  1129.26731358\n",
      "Fold val bagging score after  9 rounds is:  1129.51222909\n",
      "Fold val bagging score after  10 rounds is:  1129.01318256\n",
      "Fold  2 - MAE:  1129.01318256\n",
      "Fold val bagging score after  1 rounds is:  1153.94134174\n",
      "Fold val bagging score after  2 rounds is:  1149.47056474\n",
      "Fold val bagging score after  3 rounds is:  1149.41435463\n",
      "Fold val bagging score after  4 rounds is:  1148.99666725\n",
      "Fold val bagging score after  5 rounds is:  1149.16084962\n",
      "Fold val bagging score after  6 rounds is:  1147.66739835\n",
      "Fold val bagging score after  7 rounds is:  1148.0274225\n",
      "Fold val bagging score after  8 rounds is:  1147.18871875\n",
      "Fold val bagging score after  9 rounds is:  1146.83143224\n",
      "Fold val bagging score after  10 rounds is:  1146.746912\n",
      "Fold  3 - MAE:  1146.746912\n",
      "Fold val bagging score after  1 rounds is:  1141.35691913\n",
      "Fold val bagging score after  2 rounds is:  1136.03953414\n",
      "Fold val bagging score after  3 rounds is:  1134.34190138\n",
      "Fold val bagging score after  4 rounds is:  1133.2332859\n",
      "Fold val bagging score after  5 rounds is:  1132.85971671\n",
      "Fold val bagging score after  6 rounds is:  1132.29586913\n",
      "Fold val bagging score after  7 rounds is:  1132.31815852\n",
      "Fold val bagging score after  8 rounds is:  1132.24971756\n",
      "Fold val bagging score after  9 rounds is:  1132.28249542\n",
      "Fold val bagging score after  10 rounds is:  1132.36774624\n",
      "Fold  4 - MAE:  1132.36774624\n",
      "Fold val bagging score after  1 rounds is:  1142.20077611\n",
      "Fold val bagging score after  2 rounds is:  1137.02592281\n",
      "Fold val bagging score after  3 rounds is:  1135.89355431\n",
      "Fold val bagging score after  4 rounds is:  1134.25590816\n",
      "Fold val bagging score after  5 rounds is:  1133.74450053\n",
      "Fold val bagging score after  6 rounds is:  1133.83088136\n",
      "Fold val bagging score after  7 rounds is:  1133.57559694\n",
      "Fold val bagging score after  8 rounds is:  1133.66143256\n",
      "Fold val bagging score after  9 rounds is:  1133.43920212\n",
      "Fold val bagging score after  10 rounds is:  1133.6321231\n",
      "Fold  5 - MAE:  1133.6321231\n",
      "Total - MAE:  1132.96321562\n"
     ]
    }
   ],
   "source": [
    "i = 0\n",
    "nbags = 10\n",
    "nepochs = 55\n",
    "pred_oob = np.zeros(xtrain.shape[0])\n",
    "pred_test = np.zeros(xtest.shape[0])\n",
    "\n",
    "for (train_index, test_index) in folds:\n",
    "    xtr = xtrain[train_index]\n",
    "    ytr = y[train_index]\n",
    "    xval = xtrain[test_index]\n",
    "    yval = y[test_index]\n",
    "    pred = np.zeros(xval.shape[0])\n",
    "    for j in range(nbags):\n",
    "        model = nn_model()\n",
    "        fit = model.fit_generator(generator = batch_generator(xtr, ytr, 128, True), \n",
    "                                  nb_epoch = nepochs, \n",
    "                                  samples_per_epoch = xtr.shape[0], \n",
    "                                  validation_data = (xval.todense(), yval), \n",
    "                                  verbose = 0)\n",
    "        \n",
    "        temp = np.exp(model.predict_generator(generator = batch_generatorp(xval, 800, False), \n",
    "                                             val_samples = xval.shape[0])[:,0]) - shift\n",
    "        pred += temp\n",
    "        print('Fold val bagging score after ', j + 1, \"rounds is: \", mean_absolute_error(np.exp(yval) - shift, pred/(j+1)))\n",
    "        \n",
    "        pred_test += np.exp(model.predict_generator(generator = batch_generatorp(xtest, 800, False),\n",
    "                                                   val_samples = xtest.shape[0])[:,0]) - shift\n",
    "        \n",
    "    pred /= nbags\n",
    "    pred_oob[test_index] = pred  \n",
    "    score = mean_absolute_error(np.exp(yval)-shift, pred)\n",
    "    i += 1\n",
    "    print('Fold ', i, '- MAE: ', score)\n",
    "\n",
    "print('Total - MAE: ', mean_absolute_error(np.exp(y)-shift, pred_oob))\n",
    "\n",
    "# save train predictions\n",
    "df = pd.DataFrame({'id':id_train, 'loss': pred_oob})\n",
    "df.to_csv('preds_oob.csv', index = False)\n",
    "\n",
    "# Save test predictions\n",
    "pred_test /= (nfolds*nbags)\n",
    "df = pd.DataFrame({'id': id_test, 'loss': pred_test})\n",
    "df.to_csv('submissions/keras_submission.csv', index = False)"
   ]
  },
  {
   "cell_type": "code",
   "execution_count": null,
   "metadata": {
    "collapsed": true
   },
   "outputs": [],
   "source": []
  }
 ],
 "metadata": {
  "kernelspec": {
   "display_name": "Python [py35]",
   "language": "python",
   "name": "Python [py35]"
  },
  "language_info": {
   "codemirror_mode": {
    "name": "ipython",
    "version": 3
   },
   "file_extension": ".py",
   "mimetype": "text/x-python",
   "name": "python",
   "nbconvert_exporter": "python",
   "pygments_lexer": "ipython3",
   "version": "3.5.2"
  }
 },
 "nbformat": 4,
 "nbformat_minor": 0
}
